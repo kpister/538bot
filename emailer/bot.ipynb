{
 "cells": [
  {
   "cell_type": "code",
   "execution_count": 1,
   "metadata": {},
   "outputs": [
    {
     "ename": "error",
     "evalue": "b'[AUTHENTICATIONFAILED] Invalid credentials (Failure)'",
     "output_type": "error",
     "traceback": [
      "\u001b[0;31m---------------------------------------------------------------------------\u001b[0m",
      "\u001b[0;31merror\u001b[0m                                     Traceback (most recent call last)",
      "Cell \u001b[0;32mIn[1], line 12\u001b[0m\n\u001b[1;32m      9\u001b[0m imap \u001b[39m=\u001b[39m imaplib\u001b[39m.\u001b[39mIMAP4_SSL(\u001b[39m\"\u001b[39m\u001b[39mimap.gmail.com\u001b[39m\u001b[39m\"\u001b[39m)\n\u001b[1;32m     11\u001b[0m \u001b[39m# authenticate\u001b[39;00m\n\u001b[0;32m---> 12\u001b[0m imap\u001b[39m.\u001b[39;49mlogin(username, password)\n\u001b[1;32m     14\u001b[0m \u001b[39m# select mailbox\u001b[39;00m\n\u001b[1;32m     15\u001b[0m imap\u001b[39m.\u001b[39mselect(\u001b[39m\"\u001b[39m\u001b[39minbox\u001b[39m\u001b[39m\"\u001b[39m)\n",
      "File \u001b[0;32m~/.pyenv/versions/3.10.9/lib/python3.10/imaplib.py:612\u001b[0m, in \u001b[0;36mIMAP4.login\u001b[0;34m(self, user, password)\u001b[0m\n\u001b[1;32m    610\u001b[0m typ, dat \u001b[39m=\u001b[39m \u001b[39mself\u001b[39m\u001b[39m.\u001b[39m_simple_command(\u001b[39m'\u001b[39m\u001b[39mLOGIN\u001b[39m\u001b[39m'\u001b[39m, user, \u001b[39mself\u001b[39m\u001b[39m.\u001b[39m_quote(password))\n\u001b[1;32m    611\u001b[0m \u001b[39mif\u001b[39;00m typ \u001b[39m!=\u001b[39m \u001b[39m'\u001b[39m\u001b[39mOK\u001b[39m\u001b[39m'\u001b[39m:\n\u001b[0;32m--> 612\u001b[0m     \u001b[39mraise\u001b[39;00m \u001b[39mself\u001b[39m\u001b[39m.\u001b[39merror(dat[\u001b[39m-\u001b[39m\u001b[39m1\u001b[39m])\n\u001b[1;32m    613\u001b[0m \u001b[39mself\u001b[39m\u001b[39m.\u001b[39mstate \u001b[39m=\u001b[39m \u001b[39m'\u001b[39m\u001b[39mAUTH\u001b[39m\u001b[39m'\u001b[39m\n\u001b[1;32m    614\u001b[0m \u001b[39mreturn\u001b[39;00m typ, dat\n",
      "\u001b[0;31merror\u001b[0m: b'[AUTHENTICATIONFAILED] Invalid credentials (Failure)'"
     ]
    }
   ],
   "source": [
    "import imaplib\n",
    "import email\n",
    "\n",
    "# credentials\n",
    "username = ''\n",
    "password = ''\n",
    "\n",
    "# create an IMAP4 class with SSL \n",
    "imap = imaplib.IMAP4_SSL(\"imap.gmail.com\")\n",
    "\n",
    "# authenticate\n",
    "imap.login(username, password)\n",
    "\n",
    "# select mailbox\n",
    "imap.select(\"inbox\")"
   ]
  },
  {
   "cell_type": "code",
   "execution_count": null,
   "metadata": {},
   "outputs": [],
   "source": [
    "# search for specific email by subject\n",
    "result, data = imap.search(None, 'SUBJECT \"specific_subject\"')\n",
    "\n",
    "# get the email id\n",
    "email_id = data[0].split()[-1]\n",
    "\n",
    "# fetch the email body (RFC822) for the given ID\n",
    "result, data = imap.fetch(email_id, \"(RFC822)\")\n",
    "\n",
    "# convert the email data to readable format\n",
    "email_body = data[0][1].decode('utf-8')\n",
    "\n",
    "# parse the email content using the email library\n",
    "mail = email.message_from_string(email_body)\n",
    "\n",
    "# get the email body\n",
    "body = mail.get_payload()"
   ]
  }
 ],
 "metadata": {
  "kernelspec": {
   "display_name": "venv",
   "language": "python",
   "name": "python3"
  },
  "language_info": {
   "codemirror_mode": {
    "name": "ipython",
    "version": 3
   },
   "file_extension": ".py",
   "mimetype": "text/x-python",
   "name": "python",
   "nbconvert_exporter": "python",
   "pygments_lexer": "ipython3",
   "version": "3.10.9"
  },
  "orig_nbformat": 4
 },
 "nbformat": 4,
 "nbformat_minor": 2
}
